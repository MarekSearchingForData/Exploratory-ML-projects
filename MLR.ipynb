{
 "cells": [
  {
   "cell_type": "code",
   "execution_count": 2,
   "id": "18413618-f89c-404a-b3f8-ee76bdc1f4e2",
   "metadata": {},
   "outputs": [],
   "source": [
    "import pandas as pd\n",
    "import csv\n",
    "from datetime import datetime as dt\n",
    "from datetime import date, time\n",
    "import matplotlib.pyplot as plt\n",
    "import numpy as np"
   ]
  },
  {
   "cell_type": "code",
   "execution_count": 3,
   "id": "5be23b5e-0181-44d4-ad8b-5a464cef327c",
   "metadata": {},
   "outputs": [],
   "source": [
    "#Load data (this one is boylston)\n",
    "df = pd.read_csv(\"Dailytemp1.csv\")\n",
    "#Drop unnecessary index columns and make datetime into an index\n",
    "df = df.drop(df.columns[[0]], axis = 1)\n",
    "df = df.set_index(\"datetime\")\n",
    " \n",
    "\n"
   ]
  },
  {
   "cell_type": "code",
   "execution_count": 4,
   "id": "fb985015-ac0a-43fc-8f3a-f90fa2240bdc",
   "metadata": {},
   "outputs": [],
   "source": [
    "#split data, its important to split data when it indexed as date\n",
    "x = df.iloc[:,1:5]\n",
    "y = df.iloc[:,0]"
   ]
  },
  {
   "cell_type": "code",
   "execution_count": 9,
   "id": "6803b3e9-d19a-4338-8856-92894aa5caed",
   "metadata": {},
   "outputs": [
    {
     "data": {
      "text/plain": [
       "datetime\n",
       "2019-01-01     88.027\n",
       "2019-01-02    102.371\n",
       "2019-01-03     99.489\n",
       "2019-01-04     95.921\n",
       "2019-01-05     93.018\n",
       "               ...   \n",
       "2022-09-01    101.068\n",
       "2022-09-02     93.182\n",
       "2022-09-03     90.658\n",
       "2022-09-04     96.531\n",
       "2022-09-05     95.572\n",
       "Name: Value, Length: 1344, dtype: float64"
      ]
     },
     "execution_count": 9,
     "metadata": {},
     "output_type": "execute_result"
    }
   ],
   "source": [
    "y"
   ]
  },
  {
   "cell_type": "code",
   "execution_count": 10,
   "id": "aa0152ea-ae7d-4d9e-ab70-4bec198674d8",
   "metadata": {},
   "outputs": [
    {
     "data": {
      "text/html": [
       "<div>\n",
       "<style scoped>\n",
       "    .dataframe tbody tr th:only-of-type {\n",
       "        vertical-align: middle;\n",
       "    }\n",
       "\n",
       "    .dataframe tbody tr th {\n",
       "        vertical-align: top;\n",
       "    }\n",
       "\n",
       "    .dataframe thead th {\n",
       "        text-align: right;\n",
       "    }\n",
       "</style>\n",
       "<table border=\"1\" class=\"dataframe\">\n",
       "  <thead>\n",
       "    <tr style=\"text-align: right;\">\n",
       "      <th></th>\n",
       "      <th>TAVG</th>\n",
       "      <th>Year</th>\n",
       "      <th>Month</th>\n",
       "      <th>Day</th>\n",
       "    </tr>\n",
       "    <tr>\n",
       "      <th>datetime</th>\n",
       "      <th></th>\n",
       "      <th></th>\n",
       "      <th></th>\n",
       "      <th></th>\n",
       "    </tr>\n",
       "  </thead>\n",
       "  <tbody>\n",
       "    <tr>\n",
       "      <th>2019-01-01</th>\n",
       "      <td>47</td>\n",
       "      <td>2019</td>\n",
       "      <td>1</td>\n",
       "      <td>1</td>\n",
       "    </tr>\n",
       "    <tr>\n",
       "      <th>2019-01-02</th>\n",
       "      <td>33</td>\n",
       "      <td>2019</td>\n",
       "      <td>1</td>\n",
       "      <td>2</td>\n",
       "    </tr>\n",
       "    <tr>\n",
       "      <th>2019-01-03</th>\n",
       "      <td>38</td>\n",
       "      <td>2019</td>\n",
       "      <td>1</td>\n",
       "      <td>3</td>\n",
       "    </tr>\n",
       "    <tr>\n",
       "      <th>2019-01-04</th>\n",
       "      <td>40</td>\n",
       "      <td>2019</td>\n",
       "      <td>1</td>\n",
       "      <td>4</td>\n",
       "    </tr>\n",
       "    <tr>\n",
       "      <th>2019-01-05</th>\n",
       "      <td>41</td>\n",
       "      <td>2019</td>\n",
       "      <td>1</td>\n",
       "      <td>5</td>\n",
       "    </tr>\n",
       "    <tr>\n",
       "      <th>...</th>\n",
       "      <td>...</td>\n",
       "      <td>...</td>\n",
       "      <td>...</td>\n",
       "      <td>...</td>\n",
       "    </tr>\n",
       "    <tr>\n",
       "      <th>2022-09-01</th>\n",
       "      <td>74</td>\n",
       "      <td>2022</td>\n",
       "      <td>9</td>\n",
       "      <td>1</td>\n",
       "    </tr>\n",
       "    <tr>\n",
       "      <th>2022-09-02</th>\n",
       "      <td>65</td>\n",
       "      <td>2022</td>\n",
       "      <td>9</td>\n",
       "      <td>2</td>\n",
       "    </tr>\n",
       "    <tr>\n",
       "      <th>2022-09-03</th>\n",
       "      <td>66</td>\n",
       "      <td>2022</td>\n",
       "      <td>9</td>\n",
       "      <td>3</td>\n",
       "    </tr>\n",
       "    <tr>\n",
       "      <th>2022-09-04</th>\n",
       "      <td>71</td>\n",
       "      <td>2022</td>\n",
       "      <td>9</td>\n",
       "      <td>4</td>\n",
       "    </tr>\n",
       "    <tr>\n",
       "      <th>2022-09-05</th>\n",
       "      <td>70</td>\n",
       "      <td>2022</td>\n",
       "      <td>9</td>\n",
       "      <td>5</td>\n",
       "    </tr>\n",
       "  </tbody>\n",
       "</table>\n",
       "<p>1344 rows × 4 columns</p>\n",
       "</div>"
      ],
      "text/plain": [
       "            TAVG  Year  Month  Day\n",
       "datetime                          \n",
       "2019-01-01    47  2019      1    1\n",
       "2019-01-02    33  2019      1    2\n",
       "2019-01-03    38  2019      1    3\n",
       "2019-01-04    40  2019      1    4\n",
       "2019-01-05    41  2019      1    5\n",
       "...          ...   ...    ...  ...\n",
       "2022-09-01    74  2022      9    1\n",
       "2022-09-02    65  2022      9    2\n",
       "2022-09-03    66  2022      9    3\n",
       "2022-09-04    71  2022      9    4\n",
       "2022-09-05    70  2022      9    5\n",
       "\n",
       "[1344 rows x 4 columns]"
      ]
     },
     "execution_count": 10,
     "metadata": {},
     "output_type": "execute_result"
    }
   ],
   "source": [
    "x"
   ]
  },
  {
   "cell_type": "code",
   "execution_count": 38,
   "id": "832b39be-8ac5-45be-be55-ab130fae144a",
   "metadata": {},
   "outputs": [],
   "source": [
    "#Test size is 20% of our data size (1345 * 0.2)\n",
    "test_size = 269\n",
    "\n",
    "#x[from beginning:to the the first of test size]\n",
    "x_train = x[:-test_size]\n",
    "y_train = y[:-test_size]\n",
    "x_test = x[-test_size:]\n",
    "y_test = y[-test_size:]"
   ]
  },
  {
   "cell_type": "code",
   "execution_count": 42,
   "id": "e26d2ecf-7543-433c-be95-fec430d89f92",
   "metadata": {},
   "outputs": [
    {
     "data": {
      "text/plain": [
       "LinearRegression()"
      ]
     },
     "execution_count": 42,
     "metadata": {},
     "output_type": "execute_result"
    }
   ],
   "source": [
    "# importing module\n",
    "from sklearn.linear_model import LinearRegression\n",
    "# creating an object of LinearRegression class\n",
    "LR = LinearRegression()\n",
    "# fitting the training data\n",
    "LR.fit(x_train, y_train)"
   ]
  },
  {
   "cell_type": "code",
   "execution_count": 45,
   "id": "d6b2cc94-35b8-40a9-b24b-5793449a4d25",
   "metadata": {},
   "outputs": [
    {
     "data": {
      "text/plain": [
       "array([ 93.07216875,  93.78339711,  93.2580585 ,  93.61598201,\n",
       "        93.00231719,  94.33182903,  94.68975254,  93.54613045,\n",
       "        93.19744427,  92.40712703,  93.2950078 ,  93.74125753,\n",
       "        93.12759271,  92.77890653,  93.31348246,  93.84805839,\n",
       "        93.67602463,  94.12227435,  94.48019786,  94.57314273,\n",
       "        94.84274003,  97.79344997,  97.79806863,  96.47779412,\n",
       "        96.04078172,  97.37029356,  97.72821707,  97.02622604,\n",
       "        96.50088743,  97.21211579,  97.48171309,  96.07311237,\n",
       "        96.69601451,  98.02552635,  98.20679743,  96.17991323,\n",
       "        96.27285811,  98.66228448,  98.04861966,  98.05323832,\n",
       "        98.76446668,  97.17921354,  97.27215841,  97.98338677,\n",
       "        98.34131027,  98.87588621,  98.26222139,  97.64855657,\n",
       "        98.80141598,  98.36440359,  97.75073877,  98.37364092,\n",
       "        95.69180587,  96.57968665,  97.11426258,  96.67725019,\n",
       "        95.71028053,  95.44992056,  96.51445376,  97.49066075,\n",
       "        97.31862699,  97.6765505 ,  98.03447401,  98.74570236,\n",
       "        97.51375406,  96.5467844 ,  96.19809822,  97.26263142,\n",
       "        99.38707916,  99.48002403,  97.62979225,  97.28110607,\n",
       "        98.61061791,  98.79188899, 100.47470567,  98.09451663,\n",
       "        98.1874615 ,  97.66212289,  98.46167746,  98.11299128,\n",
       "        95.35668601,  96.59787164,  96.33751167,  95.45886822,\n",
       "        96.34674899,  97.58793462,  98.65246782,  97.68549816,\n",
       "        96.98350713,  97.25310442,  97.61102793,  97.70397281,\n",
       "        96.64867693,  97.62488392,  98.5127647 ,  98.25240473,\n",
       "        98.3453496 ,  99.32155659,  99.06119662,  99.41912013,\n",
       "        99.33541258,  98.9867264 ,  98.54971401,  98.8193113 ,\n",
       "        99.35388724,  99.80013696,  99.36312456,  98.30782869,\n",
       "        98.04746872,  99.02367571, 100.35318754,  97.75967871,\n",
       "        96.79270905,  96.79732771,  96.9785988 ,  97.51317473,\n",
       "        97.16448855,  97.16910721,  98.05698799,  97.97328044,\n",
       "        97.80124668,  98.07084398,  98.69374612,  99.13999584,\n",
       "        98.3496786 ,  98.88425453,  99.41883046,  98.27520838,\n",
       "        98.27982704,  98.72607676,  98.64236921,  99.08861893,\n",
       "        99.62319487,  99.36283489,  99.01414871,  99.28374601,\n",
       "        99.37669088,  99.8229406 ,  99.297602  ,  99.47887308,\n",
       "        99.57181796,  96.98292779,  96.98754646,  96.8155127 ,\n",
       "        96.99678378,  97.79633835,  97.88928322,  97.45227083,\n",
       "        97.28023707,  97.37318194,  97.81943166,  97.82405033,\n",
       "        98.18197384,  98.62822356, 100.13438782,  99.87402784,\n",
       "        99.70199408,  99.61828654,  99.53457899,  99.1858928 ,\n",
       "        99.10218526,  99.63676119, 100.25966333, 100.35260821,\n",
       "        99.65061718,  99.65523584, 100.10148556, 100.90104013,\n",
       "       100.993985  , 100.91027745, 101.44485339, 101.27281963,\n",
       "        97.00111278,  97.27071008,  97.18700253,  97.63325225,\n",
       "        98.25615439,  98.34909927,  98.79534899,  98.97662007,\n",
       "        99.06956495,  99.07418361,  99.2554547 ,  99.26007336,\n",
       "        99.44134445,  99.71094174,  99.36225556,  99.27854801,\n",
       "        99.98977637,  99.81774261,  98.76244673,  99.29702266,\n",
       "        99.38996754,  99.48291241,  99.6641835 , 100.02210701,\n",
       "       100.90998779, 101.2679113 , 100.91922511, 100.74719135,\n",
       "       100.92846244, 101.19805974,  98.52084336,  98.70211444,\n",
       "        98.70673311,  98.71135177,  98.53931801,  98.80891531,\n",
       "        98.54855534,  98.81815263,  98.91109751,  98.65073754,\n",
       "        99.18531347,  99.45491077,  99.63618185,  99.19916946,\n",
       "        99.55709297,  99.73836405,  99.91963514, 100.01258002,\n",
       "       100.54715595, 100.90507946, 100.90969812, 101.09096921,\n",
       "       101.18391408, 101.54183759, 101.45813004, 100.93279144,\n",
       "       100.67243146, 100.94202876, 101.56493091, 101.56954957,\n",
       "       101.3091896 ,  98.1857235 ,  98.36699458,  98.45993946,\n",
       "        98.81786297,  98.91080784,  99.18040514,  99.53832865,\n",
       "        99.54294731,  99.63589219,  98.31561768,  98.40856255,\n",
       "        98.85481227,  98.50612609,  98.77572339,  98.95699447,\n",
       "        98.96161314,  99.05455801,  99.41248152, 100.12370988,\n",
       "       100.12832854, 100.1329472 ,  99.51928238,  99.61222726,\n",
       "        99.88182456, 100.32807428, 100.59767158, 100.16065918,\n",
       "       100.16527784, 100.61152756, 101.1461035 , 100.97406974,\n",
       "        97.585625  ,  96.88363397,  97.06490506,  97.59948099,\n",
       "        97.60409966])"
      ]
     },
     "execution_count": 45,
     "metadata": {},
     "output_type": "execute_result"
    }
   ],
   "source": [
    "#test against our testing set\n",
    "y_prediction =  LR.predict(x_test)\n",
    "y_prediction"
   ]
  },
  {
   "cell_type": "code",
   "execution_count": 47,
   "id": "0153624a-0b6c-447c-bb29-98956a24b739",
   "metadata": {},
   "outputs": [
    {
     "data": {
      "image/png": "[encoded data removed]",
      "text/plain": [
       "<Figure size 432x288 with 1 Axes>"
      ]
     },
     "metadata": {
      "needs_background": "light"
     },
     "output_type": "display_data"
    }
   ],
   "source": [
    "#there should be diagonal trend as actual increases so should predicted\n",
    "plt.scatter(y_test, y_prediction);\n",
    "plt.xlabel('Actual');\n",
    "plt.ylabel('Predicted');\n"
   ]
  },
  {
   "cell_type": "code",
   "execution_count": 48,
   "id": "82b31446-b937-460a-bf03-ffa096b42891",
   "metadata": {},
   "outputs": [
    {
     "name": "stdout",
     "output_type": "stream",
     "text": [
      "r2 score is  -0.029871206354716406\n",
      "mean_sqrd_error is== 290.9864862206579\n",
      "root_mean_squared error of is== 17.058326008745933\n"
     ]
    }
   ],
   "source": [
    "# importing r2_score module\n",
    "from sklearn.metrics import r2_score\n",
    "from sklearn.metrics import mean_squared_error\n",
    "# predicting the accuracy score\n",
    "score=r2_score(y_test,y_prediction)\n",
    "print('r2 score is ',score)\n",
    "print('mean_sqrd_error is==',mean_squared_error(y_test,y_prediction))\n",
    "print('root_mean_squared error of is==',np.sqrt(mean_squared_error(y_test,y_prediction)))"
   ]
  },
  {
   "cell_type": "code",
   "execution_count": 49,
   "id": "f1064120-0da1-451b-a1a9-7b3362ec7a93",
   "metadata": {},
   "outputs": [],
   "source": [
    "#Now that the model is trained we move to prediciting section\n",
    "#We must make a file that extentends into the future with dates and TAVG\n",
    "#Make it in excel, call it newinput2.csv"
   ]
  },
  {
   "cell_type": "code",
   "execution_count": 55,
   "id": "01017f41-94af-4b37-b30c-105ef4b43f38",
   "metadata": {},
   "outputs": [],
   "source": [
    "#Read the newinput data\n",
    "newinput = pd.read_csv(\"newinput2.csv\")\n",
    "#It is important to conver it into date-indexed \n",
    "newinput = newinput.set_index(\"datetime\")"
   ]
  },
  {
   "cell_type": "code",
   "execution_count": 62,
   "id": "25a932a3-7ddd-45d9-a1fc-0b9cfb0f5c27",
   "metadata": {},
   "outputs": [
    {
     "data": {
      "text/plain": [
       "array([ 97.16708726,  97.34835835,  97.79460807,  97.62257431,\n",
       "        97.80384539,  98.60339996,  98.16638757,  97.55272275,\n",
       "        97.73399384,  98.79852704,  98.62649328,  98.18948088,\n",
       "        98.01744712,  97.84541336,  98.46831551,  99.35619628,\n",
       "        99.53746737,  99.98371709,  99.72335712,  99.02136609,\n",
       "        99.3792896 ,  99.20725584,  99.56517935,  99.83477665,\n",
       "        98.95613319,  96.1905906 ,  97.07847138,  95.66987066,\n",
       "        95.93946796,  95.50245556,  96.12535771,  97.71984818,\n",
       "        96.84120473,  96.58084476,  96.49713721,  96.59008208,\n",
       "        96.68302696,  97.04095047,  97.04556913,  97.138514  ,\n",
       "        96.87815403,  97.23607754,  97.15236999,  96.98033623,\n",
       "        97.16160732,  97.69618325,  97.52414949,  98.14705163,\n",
       "        98.06334409,  98.06796275,  97.9842552 ,  97.81222144,\n",
       "        97.90516632,  98.0864374 ,  98.62101333,  99.24391548,\n",
       "        95.85547074,  94.44687002,  94.89311974,  94.89773841,\n",
       "        95.34398813,  95.436933  ,  95.35322545,  94.474582  ,\n",
       "        94.03756961,  94.83712417,  95.54835253,  95.02301392,\n",
       "        93.87939184,  94.23731535,  95.56682718,  95.04148858,\n",
       "        94.69280239,  95.49235696,  95.76195426,  95.76657292,\n",
       "        95.94784401,  96.57074615,  96.04540754,  96.31500484,\n",
       "        96.67292835,  97.11917807,  97.03547052,  97.04008919,\n",
       "        96.24977195,  95.98941197,  92.6055859 ,  93.58179289,\n",
       "        93.05645429,  93.32605159,  93.94895373,  93.51194133,\n",
       "        93.42823379,  93.25620003,  94.76236428,  96.09187612,\n",
       "        94.32997055,  93.71630574,  94.25088167,  95.75704593,\n",
       "        95.67333838,  94.44139008,  94.26935632,  94.62727983,\n",
       "        93.66031017,  93.84158125,  94.28783097,  95.17571175,\n",
       "        95.97526632,  96.1565374 ,  95.54287259,  95.63581746,\n",
       "        96.08206718,  96.79329554,  96.17963072,  96.09592317,\n",
       "        96.36552047,  98.87459935,  99.05587043,  99.76709879,\n",
       "        99.86004366,  99.24637884,  98.80936645,  99.34394238,\n",
       "        99.43688726,  98.73489623,  99.62277701, 101.3939199 ,\n",
       "       102.28180068, 100.16659026, 100.08288272, 100.61745865,\n",
       "       100.5337511 ,  99.12515038,  98.59981177, 100.01764982,\n",
       "        99.49231121,  99.32027745,  99.9431796 , 100.65440795,\n",
       "       101.18898389, 101.37025497, 101.9048309 , 101.55614472,\n",
       "       101.56076338, 101.30040341, 100.68673859, 101.30964074,\n",
       "        98.45115327,  98.63242436,  98.90202166,  99.08329274,\n",
       "        99.08791141,  98.82755144,  99.18547494,  98.48348392,\n",
       "        98.22312394,  99.64096199,  99.82223308,  99.73852553,\n",
       "        99.65481798,  99.21780559,  98.0741835 ,  99.58034776,\n",
       "       100.29157611,  99.94288993, 100.56579207,  99.68714862,\n",
       "        99.25013623, 100.22634322, 101.02589778, 101.47214751,\n",
       "       101.47676617, 101.48138483, 101.48600349, 100.60736004,\n",
       "        97.49774993,  97.06073754,  98.03694453,  99.45478257,\n",
       "        99.28274881,  99.11071506,  98.76202887,  98.58999511,\n",
       "        99.03624483, 100.45408288, 100.28204912, 100.19834157,\n",
       "        99.40802433, 100.03092648, 100.12387135,  99.68685896,\n",
       "        99.07319414,  99.51944386, 100.23067221, 100.14696467,\n",
       "       100.85819302, 101.03946411,  99.54253717,  99.81213447,\n",
       "       100.52336283, 100.6163077 , 100.62092636, 101.77378578,\n",
       "       101.33677338, 101.16473962, 101.08103207,  97.60426113,\n",
       "        97.697206  ,  98.32010815,  98.50137923,  98.41767169,\n",
       "        98.68726898,  99.39849734,  99.66809464,  99.23108224,\n",
       "        99.14737469,  99.15199336,  99.33326444,  99.69118795,\n",
       "       100.49074252, 100.40703497,  99.97002258,  99.62133639,\n",
       "        99.62595506,  99.4539213 , 100.25347586, 100.52307316,\n",
       "       100.17438698,  99.91402701, 100.27195051, 100.54154781,\n",
       "       100.7228189 , 100.81576377, 100.5554038 , 100.56002247,\n",
       "       101.00627219,  98.06407717,  98.77530553,  99.30988146,\n",
       "       100.02110981, 100.02572848,  99.05875881,  98.79839884,\n",
       "        99.24464856,  99.42591965,  98.5472762 ,  98.90519971,\n",
       "        99.70475427,  99.4443943 ,  99.53733918, 100.42521996,\n",
       "       100.78314346, 101.14106697, 100.43907594, 100.53202082,\n",
       "       100.35998706, 100.45293193, 101.16416029, 102.05204107,\n",
       "       101.70335488, 100.73638522, 100.8293301 , 101.45223224,\n",
       "       102.78174407, 102.96301516, 103.23261246, 103.32555733,\n",
       "        99.49548154,  98.79349051,  98.88643539,  99.77431617,\n",
       "       100.66219694, 100.5784894 , 100.9364129 ,  99.88111703,\n",
       "       100.32736675, 100.50863784, 100.15995165, 100.69452759,\n",
       "       101.31742973, 100.79209112, 100.35507873, 100.35969739,\n",
       "       100.7176209 , 100.9872182 , 101.78677277, 102.3213487 ,\n",
       "       102.590946  , 102.59556466, 101.71692121, 102.25149714,\n",
       "       102.69774686, 102.87901795, 102.88363661, 102.79992906,\n",
       "       102.53956909, 102.36753533,  99.07203547,  99.34163277,\n",
       "        99.8762087 , 100.05747979,  99.53214118,  99.9783909 ,\n",
       "        99.98300956, 100.07595444, 100.69885658, 101.1451063 ,\n",
       "       100.88474633, 101.24266984, 101.60059335, 101.5168858 ,\n",
       "       100.9915472 , 100.64286101, 100.64747968, 100.65209834,\n",
       "       101.89328396, 102.42785989, 102.52080477, 102.70207586,\n",
       "       102.08841104, 102.26968212, 102.18597458, 102.45557187,\n",
       "       102.99014781, 103.52472374, 103.70599482, 103.18065622,\n",
       "       103.09694867,  99.70850394,  99.80144881, 100.07104611,\n",
       "       100.69394825, 100.16860965, 100.52653315, 100.44282561,\n",
       "       100.00581321, 100.01043188, 100.63333402, 101.16790995,\n",
       "       101.43750725, 101.3537997 , 101.27009215, 100.83307976,\n",
       "       100.48439357, 100.48901224, 100.4936309 , 101.20485926,\n",
       "       101.12115171, 101.03744416, 101.6603463 , 101.75329118,\n",
       "       101.66958363, 101.93918093, 102.38543065, 101.59511341,\n",
       "       101.24642722, 101.69267694, 101.96227424, 102.23187154,\n",
       "        98.49012196,  98.67139305,  98.67601171,  99.29891385,\n",
       "        99.65683736,  99.39647739,  99.40109605,  99.58236714,\n",
       "        99.5869858 ,  99.67993068, 100.21450661,  99.689168  ,\n",
       "        99.1638294 ,  99.52175291, 100.23298126,  99.08935918,\n",
       "        99.62393511, 100.24683725,  99.89815107,  99.28448625,\n",
       "        99.2007787 ,  99.38204979,  99.56332088, 100.62785408,\n",
       "       101.0741038 , 100.81374383, 100.73003628, 101.35293842,\n",
       "       101.53420951, 101.45050196,  98.68495937,  98.24794697,\n",
       "        97.987587  ,  97.63890082,  97.73184569,  97.91311678,\n",
       "        98.09438787,  98.54063759,  98.1919514 ,  97.75493901,\n",
       "        98.90779842,  98.73576466,  98.12209985,  98.48002335,\n",
       "        98.83794686,  99.01921795,  99.28881525,  98.49849801,\n",
       "        98.41479046,  98.68438776,  99.21896369,  99.48856099,\n",
       "        99.93481071,  99.58612452,  99.94404803,  98.88875216,\n",
       "        99.24667567,  99.42794675,  99.16758678,  99.26053166,\n",
       "        98.47021442,  94.99344347,  95.88132425,  95.97426912,\n",
       "        95.71390915,  95.98350645,  97.57799692,  98.02424664,\n",
       "        98.11719152,  98.12181018,  97.41981915,  98.1310475 ,\n",
       "        98.75394965,  98.58191589,  97.52662001,  97.17793383,\n",
       "        97.09422628,  98.07043327,  97.45676845,  96.66645121,\n",
       "        96.40609124,  98.44221277,  98.88846249,  97.83316662,\n",
       "        98.54439497,  97.75407773,  97.67037018,  98.8232296 ,\n",
       "        98.91617447,  99.00911934,  98.66043316,  95.80656436,\n",
       "        97.04774998,  95.55082305,  95.64376793,  96.26667007,\n",
       "        96.0063101 ,  95.30431907,  95.0439591 ,  95.04857776,\n",
       "        95.14152264,  96.02940341,  96.2106745 ,  96.56859801,\n",
       "        97.10317394,  96.40118291,  96.05249673,  95.17385328,\n",
       "        95.620103  ,  95.62472166,  95.54101411,  96.16391626,\n",
       "        96.61016598,  97.14474191,  96.97270815,  97.41895787,\n",
       "        98.74846971,  97.33986899,  96.9911828 ,  97.61408495,\n",
       "        97.70702982,  97.00503879, 100.83901084, 100.22534602,\n",
       "       100.75992196, 100.32290956, 100.50418065, 100.4204731 ,\n",
       "       100.60174419, 100.78301527, 100.69930772, 100.52727396,\n",
       "       100.97352368, 100.88981614, 101.15941343, 101.42901073,\n",
       "       101.52195561, 101.70322669, 102.32612883, 102.15409508,\n",
       "       102.33536616, 101.81002756, 101.99129864, 101.37763382,\n",
       "       102.2655146 , 102.00515463, 101.3031636 , 101.74941332,\n",
       "       102.01901062, 102.28860792, 102.469879  , 101.14960449,\n",
       "       101.06589695,  98.03075706,  99.27194268,  99.80651861,\n",
       "        99.81113728, 100.08073458, 100.08535324, 100.53160296,\n",
       "       100.27124299,  99.74590438,  99.75052305,  99.93179413,\n",
       "       100.02473901,  99.58772661, 100.03397633, 100.65687848,\n",
       "       100.92647577, 101.19607307, 100.9357131 , 100.85200555,\n",
       "       101.03327664, 101.0378953 , 101.04251396, 101.40043747,\n",
       "       102.28831825, 102.73456797, 103.00416527, 102.12552182,\n",
       "       102.39511911, 102.92969505,  99.90379249,  98.58351798,\n",
       "        99.55972497, 100.18262711,  99.39230987,  99.48525474,\n",
       "        99.57819962,  99.93612313, 101.17730875, 101.0936012 ,\n",
       "       101.80482956, 102.69271034, 101.46076204, 101.28872828,\n",
       "        99.88012756, 100.14972486, 101.47923669, 101.8371602 ,\n",
       "       101.57680023, 102.02304995, 102.55762588, 102.47391833,\n",
       "       102.74351563, 102.83646051, 103.19438401, 103.99393858,\n",
       "       103.55692619, 103.03158758, 103.56616351, 103.30580354,\n",
       "       104.19368432, 100.62858716,  99.30831265,  99.66623616,\n",
       "       100.55411694, 101.08869287, 101.18163775, 101.27458262,\n",
       "       101.45585371, 101.37214616, 102.17170073, 101.73468833,\n",
       "       101.29767594, 101.56727324, 101.66021811, 101.66483677,\n",
       "       101.22782438, 101.32076925, 102.20865003, 102.56657354,\n",
       "       103.36612811, 103.19409435, 101.78549363, 102.32006956,\n",
       "       103.64958139, 103.212569  , 103.04053524, 103.22180633,\n",
       "       103.57972984, 103.05439123, 103.67729337, 100.47011973,\n",
       "       101.3580005 , 101.27429295, 100.48397571, 100.48859438,\n",
       "       101.19982273, 101.11611518, 100.85575521, 101.65530978,\n",
       "       101.48327602, 101.92952574, 101.84581819, 102.2037417 ,\n",
       "       102.73831763, 103.00791493, 103.18918602, 102.92882605,\n",
       "       103.6400544 , 103.64467306, 103.11933446, 103.56558418,\n",
       "       104.18848632, 104.81138847, 103.49111396, 103.67238504,\n",
       "       104.64859203, 104.82986312, 103.50958861, 102.71927137,\n",
       "       102.98886867, 103.43511839, 101.1949144 , 101.64116412,\n",
       "       101.55745657, 102.09203251, 102.62660844, 103.42616301,\n",
       "       103.51910788, 103.52372654, 103.35169278, 102.56137554,\n",
       "       101.85938451, 102.12898181, 102.92853638, 102.49152398,\n",
       "       102.67279507, 102.94239237, 103.21198967, 103.56991317,\n",
       "       104.0161629 , 104.19743398, 104.20205264, 104.1183451 ,\n",
       "       103.32802786, 103.42097273, 103.33726518, 104.31347217,\n",
       "       105.02470053, 105.47095025, 105.91719997, 105.92181863,\n",
       "       102.00803529, 100.95273942, 100.51572702, 100.78532432,\n",
       "       101.23157404, 102.38443345, 102.74235696, 101.86371351,\n",
       "       101.78000596, 102.22625568, 102.31920056, 102.23549301,\n",
       "       102.15178546, 102.42138276, 102.95595869, 103.66718705,\n",
       "       103.31850086, 102.96981468, 102.88610713, 103.6856617 ,\n",
       "       103.86693278, 103.42992039, 103.61119148, 103.61581014,\n",
       "       103.70875501, 104.50830958, 104.60125445, 103.81093721,\n",
       "       104.08053451, 104.35013181, 104.00144563, 101.05463195,\n",
       "       101.41255546, 101.41717412, 101.42179279, 101.0731066 ,\n",
       "       101.87266117, 102.4072371 , 102.32352955, 101.88651716,\n",
       "       101.80280961, 102.86734281, 103.22526632, 103.22988498,\n",
       "       103.49948228, 102.88581746, 102.53713128, 102.89505479,\n",
       "       103.2529783 , 103.25759696, 103.35054184, 103.44348671,\n",
       "       103.09480053, 103.27607162, 103.72232134, 104.43354969,\n",
       "       104.61482078, 104.53111323, 103.65246978, 103.39210981,\n",
       "       104.27999058, 104.54958788, 100.8078383 , 100.37082591,\n",
       "       100.55209699, 100.99834671, 101.00296538, 101.53754131,\n",
       "       101.54215997, 101.63510485, 101.72804972, 101.55601596,\n",
       "       101.47230841, 101.91855813, 102.27648164, 101.75114304,\n",
       "       102.37404518, 102.11368521, 101.85332524, 102.03459632,\n",
       "       102.21586741, 101.95550744, 102.04845231, 102.75968067,\n",
       "       102.94095175, 103.12222284, 102.86186287, 102.86648153,\n",
       "       102.78277398, 103.05237128, 102.35038025, 102.35499892,\n",
       "        99.32447769,  99.77072741,  99.9519985 ,  99.77996474,\n",
       "        99.60793098, 100.0541807 , 100.323778  , 100.50504908,\n",
       "       100.42134153, 100.51428641, 100.6955575 , 100.87682858,\n",
       "       101.23475209, 101.23937075, 101.15566321, 101.60191293,\n",
       "       101.07657432, 100.55123571, 100.46752817, 101.17875652,\n",
       "       101.80165866, 101.80627733, 101.01596009, 100.6672739 ,\n",
       "       101.02519741, 101.47144713, 101.03443474, 100.86240098,\n",
       "       100.77869343, 101.578248  , 102.11282393,  98.7243792 ,\n",
       "        98.37569301,  98.20365925,  97.85497307,  98.03624416,\n",
       "        98.04086282,  98.22213391,  98.66838363,  99.29128577,\n",
       "        99.56088307,  99.03554446,  99.65844661,  99.48641285,\n",
       "        98.87274803,  99.05401911,  98.88198535,  98.88660402,\n",
       "       100.39276828,  99.77910346,  98.98878622,  99.52336215,\n",
       "       100.41124293,  99.09096842,  98.83060845,  99.71848923,\n",
       "       100.07641274,  99.2860955 ,  99.20238795,  99.56031146,\n",
       "        99.29995148,  96.88771374,  97.5989421 ,  97.51523455,\n",
       "        96.81324352,  97.43614566,  98.23570023,  97.88701405,\n",
       "        97.18502302,  96.92466305,  97.37091277,  98.17046733,\n",
       "        98.88169569,  98.35635708,  98.71428059,  98.10061577,\n",
       "        99.43012761,  99.78805112,  98.64442903,  98.29574285,\n",
       "        97.50542561,  98.39330639,  98.83955611,  98.22589129,\n",
       "        97.87720511,  98.41178104,  98.94635697,  98.77432321,\n",
       "        99.22057293,  99.57849644,  99.67144132,  99.94103861])"
      ]
     },
     "execution_count": 62,
     "metadata": {},
     "output_type": "execute_result"
    }
   ],
   "source": [
    "#place new data into the model \n",
    "y_prediction1=  LR.predict(newinput)\n",
    "y_prediction1"
   ]
  },
  {
   "cell_type": "code",
   "execution_count": 58,
   "id": "6a4dc77b-8c86-4d25-97ec-582f9a92f887",
   "metadata": {},
   "outputs": [],
   "source": [
    "#make a data frame out of the input dates use that as x in the plot and use y_predict as y"
   ]
  },
  {
   "cell_type": "code",
   "execution_count": 92,
   "id": "bbec1c7e-105c-4537-aa39-bebbdc73a196",
   "metadata": {},
   "outputs": [],
   "source": [
    "date = pd.read_csv(\"newinput2.csv\")\n",
    "date = date.drop(date.columns[[1,2,3,4]], axis = 1)\n",
    "date['datetime'] = pd.to_datetime(date['datetime'])"
   ]
  },
  {
   "cell_type": "code",
   "execution_count": 106,
   "id": "557a6723-5702-462d-ac45-73a58cc8bbeb",
   "metadata": {},
   "outputs": [
    {
     "data": {
      "text/plain": [
       "(array([19266., 19358., 19448., 19539., 19631., 19723., 19814., 19905.,\n",
       "        19997., 20089.]),\n",
       " [Text(0, 0, ''),\n",
       "  Text(0, 0, ''),\n",
       "  Text(0, 0, ''),\n",
       "  Text(0, 0, ''),\n",
       "  Text(0, 0, ''),\n",
       "  Text(0, 0, ''),\n",
       "  Text(0, 0, ''),\n",
       "  Text(0, 0, ''),\n",
       "  Text(0, 0, ''),\n",
       "  Text(0, 0, '')])"
      ]
     },
     "execution_count": 106,
     "metadata": {},
     "output_type": "execute_result"
    },
    {
     "data": {
      "image/png": "[encoded data removed]",
      "text/plain": [
       "<Figure size 432x288 with 1 Axes>"
      ]
     },
     "metadata": {
      "needs_background": "light"
     },
     "output_type": "display_data"
    }
   ],
   "source": [
    "plt.scatter(date, y_prediction1);\n",
    "plt.ylabel('Predicted');\n",
    "plt.xlabel('Date');\n",
    "plt.xticks(rotation='vertical')\n"
   ]
  },
  {
   "cell_type": "code",
   "execution_count": 88,
   "id": "d2cebe13-2098-4235-8e21-4f481bd5629c",
   "metadata": {},
   "outputs": [],
   "source": [
    "#now its time to graph actual, take the dates from training set same range and take actual loads in excel call it actualinput.csv\n"
   ]
  },
  {
   "cell_type": "code",
   "execution_count": 107,
   "id": "d0f91b82-65dd-4718-b961-39ad4d982526",
   "metadata": {},
   "outputs": [],
   "source": [
    "actualinput = pd.read_csv(\"actualinput.csv\")\n",
    "actualinput"
   ]
  },
  {
   "cell_type": "code",
   "execution_count": 134,
   "id": "adb82a01-d3e9-4201-bc2b-9f839c7a08ee",
   "metadata": {},
   "outputs": [],
   "source": [
    "#put y_predicition into a variable, and use pd to make it a dataframe save it as csv, append that data into actualinput.csv column for graphing purposes\n",
    "array = y_prediction1\n",
    "actual = pd.DataFrame(array)\n",
    "actual.to_csv(\"predicted.csv\")"
   ]
  },
  {
   "cell_type": "code",
   "execution_count": null,
   "id": "2cad7c37-b128-4581-8605-27cb42d23fc9",
   "metadata": {},
   "outputs": [],
   "source": [
    "#dont worry about this\n",
    "#actual1 = actual.insert(0, 'datetime', date)"
   ]
  },
  {
   "cell_type": "code",
   "execution_count": 137,
   "id": "7cfac1d9-c12d-41f4-896f-cd712f8a79b8",
   "metadata": {},
   "outputs": [
    {
     "data": {
      "text/html": [
       "<div>\n",
       "<style scoped>\n",
       "    .dataframe tbody tr th:only-of-type {\n",
       "        vertical-align: middle;\n",
       "    }\n",
       "\n",
       "    .dataframe tbody tr th {\n",
       "        vertical-align: top;\n",
       "    }\n",
       "\n",
       "    .dataframe thead th {\n",
       "        text-align: right;\n",
       "    }\n",
       "</style>\n",
       "<table border=\"1\" class=\"dataframe\">\n",
       "  <thead>\n",
       "    <tr style=\"text-align: right;\">\n",
       "      <th></th>\n",
       "      <th>datetime</th>\n",
       "      <th>Value</th>\n",
       "    </tr>\n",
       "  </thead>\n",
       "  <tbody>\n",
       "    <tr>\n",
       "      <th>0</th>\n",
       "      <td>1/1/2019</td>\n",
       "      <td>88.027000</td>\n",
       "    </tr>\n",
       "    <tr>\n",
       "      <th>1</th>\n",
       "      <td>1/2/2019</td>\n",
       "      <td>102.371000</td>\n",
       "    </tr>\n",
       "    <tr>\n",
       "      <th>2</th>\n",
       "      <td>1/3/2019</td>\n",
       "      <td>99.489000</td>\n",
       "    </tr>\n",
       "    <tr>\n",
       "      <th>3</th>\n",
       "      <td>1/4/2019</td>\n",
       "      <td>95.921000</td>\n",
       "    </tr>\n",
       "    <tr>\n",
       "      <th>4</th>\n",
       "      <td>1/5/2019</td>\n",
       "      <td>93.018000</td>\n",
       "    </tr>\n",
       "    <tr>\n",
       "      <th>...</th>\n",
       "      <td>...</td>\n",
       "      <td>...</td>\n",
       "    </tr>\n",
       "    <tr>\n",
       "      <th>2187</th>\n",
       "      <td>12/27/2024</td>\n",
       "      <td>98.774323</td>\n",
       "    </tr>\n",
       "    <tr>\n",
       "      <th>2188</th>\n",
       "      <td>12/28/2024</td>\n",
       "      <td>99.220573</td>\n",
       "    </tr>\n",
       "    <tr>\n",
       "      <th>2189</th>\n",
       "      <td>12/29/2024</td>\n",
       "      <td>99.578496</td>\n",
       "    </tr>\n",
       "    <tr>\n",
       "      <th>2190</th>\n",
       "      <td>12/30/2024</td>\n",
       "      <td>99.671441</td>\n",
       "    </tr>\n",
       "    <tr>\n",
       "      <th>2191</th>\n",
       "      <td>12/31/2024</td>\n",
       "      <td>99.941039</td>\n",
       "    </tr>\n",
       "  </tbody>\n",
       "</table>\n",
       "<p>2192 rows × 2 columns</p>\n",
       "</div>"
      ],
      "text/plain": [
       "        datetime       Value\n",
       "0       1/1/2019   88.027000\n",
       "1       1/2/2019  102.371000\n",
       "2       1/3/2019   99.489000\n",
       "3       1/4/2019   95.921000\n",
       "4       1/5/2019   93.018000\n",
       "...          ...         ...\n",
       "2187  12/27/2024   98.774323\n",
       "2188  12/28/2024   99.220573\n",
       "2189  12/29/2024   99.578496\n",
       "2190  12/30/2024   99.671441\n",
       "2191  12/31/2024   99.941039\n",
       "\n",
       "[2192 rows x 2 columns]"
      ]
     },
     "execution_count": 137,
     "metadata": {},
     "output_type": "execute_result"
    }
   ],
   "source": [
    "predicted = pd.read_csv(\"actualinput.csv\")\n",
    "predicted"
   ]
  },
  {
   "cell_type": "code",
   "execution_count": 144,
   "id": "47ac9c00-a02f-4e29-a2a4-c075201e9ddd",
   "metadata": {},
   "outputs": [
    {
     "data": {
      "image/png": "[encoded data removed]",
      "text/plain": [
       "<Figure size 864x432 with 1 Axes>"
      ]
     },
     "metadata": {
      "needs_background": "light"
     },
     "output_type": "display_data"
    }
   ],
   "source": [
    "fig = plt.subplots(figsize=(12, 6))\n",
    "plt.scatter(predicted[\"datetime\"], predicted[\"Value\"] );\n",
    "plt.ylabel('x');\n",
    "plt.xlabel('y');\n",
    "#plt.xticks(np.arange(0, len(x)+1, 5))"
   ]
  },
  {
   "cell_type": "markdown",
   "id": "06da1dd4-ec9d-4ada-a5fc-71eea630d78f",
   "metadata": {
    "jp-MarkdownHeadingCollapsed": true,
    "tags": []
   },
   "source": []
  },
  {
   "cell_type": "code",
   "execution_count": null,
   "id": "1834eebb-43b2-40a2-a86e-e75dc369f3b8",
   "metadata": {},
   "outputs": [],
   "source": []
  },
  {
   "cell_type": "code",
   "execution_count": null,
   "id": "7cc9def9-b6b2-4e1e-9d3f-fbd5e895bfdd",
   "metadata": {},
   "outputs": [],
   "source": []
  },
  {
   "cell_type": "code",
   "execution_count": 131,
   "id": "78dcc058-f21e-45fc-b07f-11eff606093f",
   "metadata": {},
   "outputs": [],
   "source": []
  },
  {
   "cell_type": "code",
   "execution_count": null,
   "id": "3402ea5f-c5df-4317-a430-03a4044156a2",
   "metadata": {},
   "outputs": [],
   "source": []
  },
  {
   "cell_type": "code",
   "execution_count": null,
   "id": "9a2f4e2f-ca5b-451f-a25f-55d479f20189",
   "metadata": {},
   "outputs": [],
   "source": []
  }
 ],
 "metadata": {
  "kernelspec": {
   "display_name": "Python 3 (ipykernel)",
   "language": "python",
   "name": "python3"
  },
  "language_info": {
   "codemirror_mode": {
    "name": "ipython",
    "version": 3
   },
   "file_extension": ".py",
   "mimetype": "text/x-python",
   "name": "python",
   "nbconvert_exporter": "python",
   "pygments_lexer": "ipython3",
   "version": "3.10.9"
  }
 },
 "nbformat": 4,
 "nbformat_minor": 5
}
