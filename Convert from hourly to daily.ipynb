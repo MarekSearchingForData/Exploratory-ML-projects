{
 "cells": [
  {
   "cell_type": "code",
   "execution_count": 1,
   "id": "6e9f573b-d16c-4d0f-9135-0a6d933e3a39",
   "metadata": {},
   "outputs": [],
   "source": [
    "import pandas as pd\n",
    "import csv\n",
    "from datetime import datetime as dt\n",
    "from datetime import date, time\n",
    "import matplotlib.pyplot as plt\n",
    "import numpy as np\n"
   ]
  },
  {
   "cell_type": "code",
   "execution_count": 7,
   "id": "3641d552-60fa-4297-9d47-b16298724438",
   "metadata": {},
   "outputs": [],
   "source": [
    "df = pd.read_csv(\"boyl to be daily.csv\")"
   ]
  },
  {
   "cell_type": "code",
   "execution_count": 9,
   "id": "96c7b02e-afa0-41a2-a58b-a5046837c986",
   "metadata": {},
   "outputs": [],
   "source": [
    "#create a new column with hour format\n",
    "df[\"Hour\"] = pd.to_datetime(df.loc[:,\"Hour\"], format = '%H').dt.time"
   ]
  },
  {
   "cell_type": "code",
   "execution_count": 11,
   "id": "e79078c3-06f3-45df-9070-7a78779b58b8",
   "metadata": {},
   "outputs": [],
   "source": [
    "#change the dates to datetime format\n",
    "df[\"Term Start\"] = pd.to_datetime(df.loc[:,\"Term Start\"]).dt.date"
   ]
  },
  {
   "cell_type": "code",
   "execution_count": 14,
   "id": "38689407-f053-4b74-85d2-fb8d87f50911",
   "metadata": {},
   "outputs": [],
   "source": [
    "#Join it together to be able to resample\n",
    "new_df = pd.to_datetime(df.loc[:,\"Term Start\"].astype(str) + ' ' +df.loc[:,\"Hour\"].astype(str))\n",
    "\n",
    "# add column to our orignal data frame\n",
    "df.insert(3, 'datetime', new_df)"
   ]
  },
  {
   "cell_type": "code",
   "execution_count": 18,
   "id": "4549540e-4a21-4f6e-a12b-626a6e196251",
   "metadata": {},
   "outputs": [],
   "source": [
    "#drop the unecessary columns\n",
    "df = df.drop([\"Hour\", \"Term Start\"], axis=1)"
   ]
  },
  {
   "cell_type": "code",
   "execution_count": 19,
   "id": "a2962391-e753-448c-85b2-a9098cb7c3b6",
   "metadata": {
    "tags": []
   },
   "outputs": [],
   "source": [
    "#Set date values as index\n",
    "df1 = df.set_index(\"datetime\")"
   ]
  },
  {
   "cell_type": "code",
   "execution_count": 22,
   "id": "852ec7ab-b893-4356-83dc-84ccc56d0dd4",
   "metadata": {},
   "outputs": [],
   "source": [
    "#resample into daily format\n",
    "dailybbatch = df1.resample('D').sum()"
   ]
  },
  {
   "cell_type": "code",
   "execution_count": 27,
   "id": "4a997429-cf2b-4326-a0d1-8944262797d4",
   "metadata": {},
   "outputs": [],
   "source": [
    "def todaily(file):\n",
    "    df = pd.read_csv(file)\n",
    "    #create a new column with hour format\n",
    "    df[\"Hour\"] = pd.to_datetime(df.loc[:,\"Hour\"], format = '%H').dt.time\n",
    "    #change the dates to datetime format\n",
    "    df[\"Term Start\"] = pd.to_datetime(df.loc[:,\"Term Start\"]).dt.date\n",
    "    #Join it together to be able to resample\n",
    "    new_df = pd.to_datetime(df.loc[:,\"Term Start\"].astype(str) + ' ' +df.loc[:,\"Hour\"].astype(str))\n",
    "    # add column to our orignal data frame\n",
    "    df.insert(3, 'datetime', new_df)\n",
    "    #drop the unecessary columns\n",
    "    df = df.drop([\"Hour\", \"Term Start\"], axis=1)\n",
    "    #Set date values as index\n",
    "    df1 = df.set_index(\"datetime\")\n",
    "    #resample into daily format\n",
    "    dailybbatch = df1.resample('D').sum()\n",
    "    dailybbatch.to_csv('daily.csv')"
   ]
  },
  {
   "cell_type": "code",
   "execution_count": 28,
   "id": "b6b297ac-b1a5-4cee-9d15-37c03f69a810",
   "metadata": {},
   "outputs": [],
   "source": [
    "todaily(\"boyl to be daily.csv\")"
   ]
  },
  {
   "cell_type": "code",
   "execution_count": 45,
   "id": "55208970-5360-4e61-a384-e9b8e706ef50",
   "metadata": {},
   "outputs": [],
   "source": [
    "#Define a function to attach temperature data \n",
    "def addtemp(file):\n",
    "    df = pd.read_csv(file)\n",
    "    df2 = pd.read_csv(\"Tempdata.csv\")\n",
    "    df3 = df2.drop([\"STATION\", \"DATE\"], axis=1)\n",
    "    df.insert(2, 'TAVG', df3)\n",
    "    df.to_csv('Dailytemp.csv')\n",
    "    "
   ]
  },
  {
   "cell_type": "code",
   "execution_count": 50,
   "id": "11590736-67a6-478c-a16e-1701b83d3bfd",
   "metadata": {},
   "outputs": [],
   "source": [
    "#will have to drop columns\n",
    "df = pd.read_csv(\"Dailytemp.csv\")\n",
    "df\n",
    "\n",
    "df2 = df.drop(df.columns[[0]],axis = 1)"
   ]
  },
  {
   "cell_type": "code",
   "execution_count": 53,
   "id": "4ef25f0f-ecf6-4761-8599-700ec936a1eb",
   "metadata": {},
   "outputs": [],
   "source": [
    "#this may not work so great, tweak with df.drop(df.columns[[1]], axis = 1) if neccesary\n",
    "def dummydates(file):\n",
    "    #load data\n",
    "    df = pd.read_csv(file)\n",
    "    #drop the secondary index\n",
    "    df = df.drop(df.columns[[0]],axis = 1)\n",
    "    #split Date into day month year\n",
    "    df[[\"Year\", \"Month\", \"Day\"]] = df[\"datetime\"].str.split(\"-\", expand = True)\n",
    "    df.to_csv(file)\n",
    "\n"
   ]
  },
  {
   "cell_type": "code",
   "execution_count": 54,
   "id": "ed81075b-4359-4962-8b02-3a3ec9e0fa8f",
   "metadata": {},
   "outputs": [],
   "source": [
    "dummydates(\"Dailytemp1.csv\")"
   ]
  },
  {
   "cell_type": "code",
   "execution_count": 55,
   "id": "e21965a4-6846-496a-9db1-c6301d211293",
   "metadata": {},
   "outputs": [
    {
     "data": {
      "text/html": [
       "<div>\n",
       "<style scoped>\n",
       "    .dataframe tbody tr th:only-of-type {\n",
       "        vertical-align: middle;\n",
       "    }\n",
       "\n",
       "    .dataframe tbody tr th {\n",
       "        vertical-align: top;\n",
       "    }\n",
       "\n",
       "    .dataframe thead th {\n",
       "        text-align: right;\n",
       "    }\n",
       "</style>\n",
       "<table border=\"1\" class=\"dataframe\">\n",
       "  <thead>\n",
       "    <tr style=\"text-align: right;\">\n",
       "      <th></th>\n",
       "      <th>Unnamed: 0</th>\n",
       "      <th>datetime</th>\n",
       "      <th>Value</th>\n",
       "      <th>TAVG</th>\n",
       "      <th>Year</th>\n",
       "      <th>Month</th>\n",
       "      <th>Day</th>\n",
       "    </tr>\n",
       "  </thead>\n",
       "  <tbody>\n",
       "    <tr>\n",
       "      <th>0</th>\n",
       "      <td>0</td>\n",
       "      <td>2019-01-01</td>\n",
       "      <td>88.027</td>\n",
       "      <td>47</td>\n",
       "      <td>2019</td>\n",
       "      <td>1</td>\n",
       "      <td>1</td>\n",
       "    </tr>\n",
       "    <tr>\n",
       "      <th>1</th>\n",
       "      <td>1</td>\n",
       "      <td>2019-01-02</td>\n",
       "      <td>102.371</td>\n",
       "      <td>33</td>\n",
       "      <td>2019</td>\n",
       "      <td>1</td>\n",
       "      <td>2</td>\n",
       "    </tr>\n",
       "    <tr>\n",
       "      <th>2</th>\n",
       "      <td>2</td>\n",
       "      <td>2019-01-03</td>\n",
       "      <td>99.489</td>\n",
       "      <td>38</td>\n",
       "      <td>2019</td>\n",
       "      <td>1</td>\n",
       "      <td>3</td>\n",
       "    </tr>\n",
       "    <tr>\n",
       "      <th>3</th>\n",
       "      <td>3</td>\n",
       "      <td>2019-01-04</td>\n",
       "      <td>95.921</td>\n",
       "      <td>40</td>\n",
       "      <td>2019</td>\n",
       "      <td>1</td>\n",
       "      <td>4</td>\n",
       "    </tr>\n",
       "    <tr>\n",
       "      <th>4</th>\n",
       "      <td>4</td>\n",
       "      <td>2019-01-05</td>\n",
       "      <td>93.018</td>\n",
       "      <td>41</td>\n",
       "      <td>2019</td>\n",
       "      <td>1</td>\n",
       "      <td>5</td>\n",
       "    </tr>\n",
       "    <tr>\n",
       "      <th>...</th>\n",
       "      <td>...</td>\n",
       "      <td>...</td>\n",
       "      <td>...</td>\n",
       "      <td>...</td>\n",
       "      <td>...</td>\n",
       "      <td>...</td>\n",
       "      <td>...</td>\n",
       "    </tr>\n",
       "    <tr>\n",
       "      <th>1339</th>\n",
       "      <td>1339</td>\n",
       "      <td>2022-09-01</td>\n",
       "      <td>101.068</td>\n",
       "      <td>74</td>\n",
       "      <td>2022</td>\n",
       "      <td>9</td>\n",
       "      <td>1</td>\n",
       "    </tr>\n",
       "    <tr>\n",
       "      <th>1340</th>\n",
       "      <td>1340</td>\n",
       "      <td>2022-09-02</td>\n",
       "      <td>93.182</td>\n",
       "      <td>65</td>\n",
       "      <td>2022</td>\n",
       "      <td>9</td>\n",
       "      <td>2</td>\n",
       "    </tr>\n",
       "    <tr>\n",
       "      <th>1341</th>\n",
       "      <td>1341</td>\n",
       "      <td>2022-09-03</td>\n",
       "      <td>90.658</td>\n",
       "      <td>66</td>\n",
       "      <td>2022</td>\n",
       "      <td>9</td>\n",
       "      <td>3</td>\n",
       "    </tr>\n",
       "    <tr>\n",
       "      <th>1342</th>\n",
       "      <td>1342</td>\n",
       "      <td>2022-09-04</td>\n",
       "      <td>96.531</td>\n",
       "      <td>71</td>\n",
       "      <td>2022</td>\n",
       "      <td>9</td>\n",
       "      <td>4</td>\n",
       "    </tr>\n",
       "    <tr>\n",
       "      <th>1343</th>\n",
       "      <td>1343</td>\n",
       "      <td>2022-09-05</td>\n",
       "      <td>95.572</td>\n",
       "      <td>70</td>\n",
       "      <td>2022</td>\n",
       "      <td>9</td>\n",
       "      <td>5</td>\n",
       "    </tr>\n",
       "  </tbody>\n",
       "</table>\n",
       "<p>1344 rows × 7 columns</p>\n",
       "</div>"
      ],
      "text/plain": [
       "      Unnamed: 0    datetime    Value  TAVG  Year  Month  Day\n",
       "0              0  2019-01-01   88.027    47  2019      1    1\n",
       "1              1  2019-01-02  102.371    33  2019      1    2\n",
       "2              2  2019-01-03   99.489    38  2019      1    3\n",
       "3              3  2019-01-04   95.921    40  2019      1    4\n",
       "4              4  2019-01-05   93.018    41  2019      1    5\n",
       "...          ...         ...      ...   ...   ...    ...  ...\n",
       "1339        1339  2022-09-01  101.068    74  2022      9    1\n",
       "1340        1340  2022-09-02   93.182    65  2022      9    2\n",
       "1341        1341  2022-09-03   90.658    66  2022      9    3\n",
       "1342        1342  2022-09-04   96.531    71  2022      9    4\n",
       "1343        1343  2022-09-05   95.572    70  2022      9    5\n",
       "\n",
       "[1344 rows x 7 columns]"
      ]
     },
     "execution_count": 55,
     "metadata": {},
     "output_type": "execute_result"
    }
   ],
   "source": [
    "df = pd.read_csv(\"Dailytemp1.csv\")\n",
    "df"
   ]
  },
  {
   "cell_type": "code",
   "execution_count": null,
   "id": "c03964ac-de17-4cae-b56c-0595657f414e",
   "metadata": {},
   "outputs": [],
   "source": []
  }
 ],
 "metadata": {
  "kernelspec": {
   "display_name": "Python 3 (ipykernel)",
   "language": "python",
   "name": "python3"
  },
  "language_info": {
   "codemirror_mode": {
    "name": "ipython",
    "version": 3
   },
   "file_extension": ".py",
   "mimetype": "text/x-python",
   "name": "python",
   "nbconvert_exporter": "python",
   "pygments_lexer": "ipython3",
   "version": "3.10.9"
  }
 },
 "nbformat": 4,
 "nbformat_minor": 5
}
